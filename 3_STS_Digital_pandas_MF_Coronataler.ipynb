{
 "cells": [
  {
   "cell_type": "markdown",
   "id": "8e7aee83-ee41-44b5-9082-c782df0dec2d",
   "metadata": {},
   "source": [
    "## Sprog, Tekst og samfund 2025\n",
    "# 3. Introduktion til Pythonprogrammering og Digital Tekstanalyse: Store data mængder og datasæt\n",
    "\n",
    "### *Ulf Dalvad Berthelsen*\n",
    "\n",
    "***\n",
    "***\n",
    "\n",
    "Keywords: `data`, `meta-data`, `datasæt`, `datatyper`, `dictionaries`, `data frames`, `pre-processing`, `funktioner`, `plots`,  \n",
    "\n",
    "Nye Python-udtryk: `pip3 install`, `import ... as ...`, `pd.DataFrame()`, `{key: value}`, `pandas`, `apply`\n",
    "***\n",
    "***\n",
    "\n",
    "### Strings, dictionaries og data frames\n",
    "Vi har indtil videre har vi arbejdet med data som lister af tekster. Vi skal nu prøve at lave en såkaldt *data frame*, dvs. en datastruktur, der består af rækker og kolonner, hvor vi kan gemme både data og metadata på en systematiske og overskuelig måde. \n",
    "\n",
    "Vi har allerede stiftet bekendtskab med datatyperne *strings* `\"...\"` og *lists* `[...]`. I det følgende skal også arbejde med *dictionaries* `{key: value}` og *dataframes* (tabeller). "
   ]
  },
  {
   "cell_type": "markdown",
   "id": "b8262159-36e5-40df-8d69-1e3f249d5517",
   "metadata": {},
   "source": [
    "### Importer nødvendige pakker\n",
    "Når man skriver et Python-script, importerer man pakker for at genbruge kode, som andre allerede har skrevet. Pakker indeholder funktioner og værktøjer, der kan hjælpe med at løse specifikke opgaver, fx `Pandas` til at lave data frames og `matplotlib` til at lave diagrammer."
   ]
  },
  {
   "cell_type": "code",
   "execution_count": null,
   "id": "d6e45385-4bf6-4bad-8623-e5af91d739f5",
   "metadata": {},
   "outputs": [],
   "source": [
    "import os #os-pakken tillader os bl.a. at finde filplaceringer på computeren\n",
    "import pandas as pd # pandas-pakken hjælper os med at lave data frames (tænk på regneark), data frames er en data type med egne methods\n",
    "import matplotlib.pyplot as plt #matplotlib-pakken tilbyder som navnet antyder hjælp til at plotte vores resultater"
   ]
  },
  {
   "cell_type": "markdown",
   "id": "bdcb2ea1-bc58-4143-a1a5-0124805944ae",
   "metadata": {},
   "source": [
    "### Åben og indlæs tekstfiler\n",
    "Proceduren fpr at åbne og indlæse (det er to forskellige ting!) teksterne er den samme som sidst. Først oprettes en tom liste kaldet *taler*. Derefter angives filplaceringen til mappen \"Coronataler\" ved hjælp af os.path.join, hvilket sikrer, at stien fungerer korrekt både på Mac og PC.\n",
    "\n",
    "Herefter gennemgås alle elementer i mappen \"Coronataler\" ved hjælp af et for-loop. For hvert element tjekkes det, om det er en fil. Hvis elementet er en fil, åbnes det med utf8-kodning, og eventuelle kodningsfejl ignoreres. Filens indhold læses og tilføjes til listen taler.\n",
    "\n",
    "**Læs kodelinjerne grundigt**. det er vigtigt at forstå, hvad alle delene betyder!\n",
    "\n",
    "**Kommentér alle kodelinjerne udførligt**"
   ]
  },
  {
   "cell_type": "code",
   "execution_count": null,
   "id": "677d28fa-2e75-4171-87cd-375223245b1c",
   "metadata": {},
   "outputs": [],
   "source": [
    "taler = [] \n",
    "\n",
    "path = os.path.join(\"Coronataler\") \n",
    "\n",
    "for fil in os.scandir(path):\n",
    "    if fil.is_file():\n",
    "        with open (fil, encoding = \"utf8\", errors=\"ignore\") as f: \n",
    "            taler.append(f.read()) "
   ]
  },
  {
   "cell_type": "markdown",
   "id": "e5c2032e-007f-43e9-bd20-7a842714b6ed",
   "metadata": {},
   "source": [
    "### Stopord\n",
    "Stopord er højfrekvente ord, der ofte fjernes fra teksterne i forbindelse med præprocesseringen, fordi de ikke bærer væsentlig betydning. Eksempler på stopord er \"og\", \"men\", \"det\", \"er\", osv. Ved at fjerne disse ord kan man fokusere på indholdsordene i teksterne.\n",
    "\n",
    "I kodesekvensen nedenfor indlæses en lang liste med danske stopord. Listen er bare en lang liste af ord gemt som `.txt`-fil (dvs. uformatteret tekst). Hvis I åbner filen i en teksteditor, kan I selv tilføje flere stopord, gemme filen og genindlæse filen i Python. Så er de nye ord med på listen.\n",
    "\n",
    "Kodesekvensen følger samme struktur som ovenfor. Først specificeres filnavnet \"stopord.txt\" ved hjælp af os.path.join, hvilket sikrer, at stien fungerer korrekt på forskellige operativsystemer. Derefter åbnes filen \"stopord.txt\" med `utf8-kodning`, og eventuelle kodningsfejl ignoreres. Filens indhold læses og opdeles i en liste af ord ved at splitte teksten ved hvert mellemrum (eller linjeskift eller tabulatorindrykning). Denne liste gemmes under variabelnavnet stopord.\n",
    "\n",
    "**Læs kodelinjerne grundigt og kommentér hver enkelt linje**."
   ]
  },
  {
   "cell_type": "code",
   "execution_count": null,
   "id": "94211221-a22e-4278-99ac-e3f7b126370a",
   "metadata": {},
   "outputs": [],
   "source": [
    "filnavn = os.path.join(\"stopord.txt\")\n",
    "with open(filnavn, encoding=\"utf8\",errors=\"ignore\") as f:   \n",
    "    stopord = f.read().split()"
   ]
  },
  {
   "cell_type": "markdown",
   "id": "9e69b4ad-c2a0-4daa-957b-64d0edfd2a2e",
   "metadata": {},
   "source": [
    "### Metadata\n",
    "Metadata er data om data. Det er information, der beskriver andre data og hjælper med at forstå, organisere og finde dem. For eksempel kan metadata for en bog inkludere titel, forfatter, udgivelsesår og genre. \n",
    "\n",
    "Metadata kan tilføjes på forskellige måder. Nedenfor udtrækker vi information, som allerede er inkluderet i de tekster vi arbejder med.\n",
    "\n",
    "**Kommentér kodelinjen nedenfor. Hvilket output giver den?**"
   ]
  },
  {
   "cell_type": "code",
   "execution_count": null,
   "id": "15f243d6-163f-4dbe-a70a-0e1dc9b7b96d",
   "metadata": {},
   "outputs": [],
   "source": [
    "taler[0][0:100]"
   ]
  },
  {
   "cell_type": "markdown",
   "id": "b316165b-8962-4c6b-98ae-ec64cabe3489",
   "metadata": {},
   "source": [
    "Som I kunne se ovenfor begynder teksterne med en lille sekvens med metainformation, herunder dato og årstal.\n",
    "\n",
    "Vi skal nu prøve prøve at klippe denne sekvens ud og bruge den som titel, dvs. metadata. Det kan vi gøre ved hjælp at `.split()`, der per default (dvs. hvis vi ikke angiver andet) splitter på mellemrum, linjeskift og tabulatorindryk.\n",
    "\n",
    "**Læs kodelinjerne nedenfor grundigt. Forklar med jeres egne ord, hvad der sker og kommentér hver enkelt linje**."
   ]
  },
  {
   "cell_type": "code",
   "execution_count": null,
   "id": "4d12d9a8-740a-4f94-b702-fb17acb0e80f",
   "metadata": {},
   "outputs": [],
   "source": [
    "titler = []\n",
    "\n",
    "for t in taler:\n",
    "    titel = t.split(\"\\n\")[0]\n",
    "    titler.append(titel)"
   ]
  },
  {
   "cell_type": "markdown",
   "id": "a5bf58f2-90df-4446-9506-9f0fc464ad8b",
   "metadata": {},
   "source": [
    "Print herefter indholdet af listen `titler` og tjek, at alt er som forventet. brug `print()`-funktionen."
   ]
  },
  {
   "cell_type": "code",
   "execution_count": null,
   "id": "3f7cdc43-c960-4e05-9faa-9a04da0f71b0",
   "metadata": {},
   "outputs": [],
   "source": []
  },
  {
   "cell_type": "markdown",
   "id": "d5f983b6-f40c-466f-9934-e27151c14bc9",
   "metadata": {},
   "source": [
    "Vi skal også bruge en kolonne med datoer. Datoerne er allerede indholdt i titlerne, så vi skal bare trække dem ud og gemme dem på en selvstændig liste. Vi har allerede prøvet at slice ved hjælp af `[0:10]`, der slicer de første 10 elementer. Vi kan også slice de sidste elmenter. Det gør vi ved at skrive `[-10:0]` (læses: begynd ved det 10.-sidste tegn og inkluder alt derefter). Da datoen præcis udgør de ti sidste tegn i titlen skulle, dette gerne resultere i, at vi får udtrukket datoen som en streng for sig selv.\n",
    "\n",
    "Vi skal nu lave en liste med datoer.\n",
    "\n",
    "**Læs kodelinjerne nedenfor grundigt. Forklar med jeres egne ord, hvad der sker og kommentér hver enkelt linje**."
   ]
  },
  {
   "cell_type": "code",
   "execution_count": null,
   "id": "23e4fd25-2b76-430a-b7b1-e4fa4f768b60",
   "metadata": {},
   "outputs": [],
   "source": [
    "datoer = []\n",
    "for t in titler:\n",
    "    datoer.append(t[-10:])"
   ]
  },
  {
   "cell_type": "markdown",
   "id": "f3b9cd20-c22a-4bdf-8b42-55e4ab8d1a4c",
   "metadata": {},
   "source": [
    "Print listen `datoer` for at tjekke, at alt er som det skal være."
   ]
  },
  {
   "cell_type": "code",
   "execution_count": null,
   "id": "2dac6249-21e2-4837-bf1e-527d643e3488",
   "metadata": {},
   "outputs": [],
   "source": []
  },
  {
   "cell_type": "markdown",
   "id": "51b63cf7-0f26-475b-9adf-897b62c2d57f",
   "metadata": {},
   "source": [
    "Det sidste vi skal have gjort, inden vi laver vores dataframe, er at fjene datoen fra teksten. Teksten er en `string`, så vi kan gøre det ved at splitte hver tekst i datolinje og resten. Fjerne datolinjen og gemme den resterende tekst på en liste.\n",
    "\n",
    "**Læs kodelinjerne nedenfor grundigt. Forklar med jeres egne ord, hvad der sker og kommentér hver enkelt linje**."
   ]
  },
  {
   "cell_type": "code",
   "execution_count": null,
   "id": "b2d8ae87-8a8f-4023-88ec-cc453391eebd",
   "metadata": {},
   "outputs": [],
   "source": [
    "taler_txt = []\n",
    "\n",
    "for t in taler:\n",
    "    første_linje = t.split()[0]\n",
    "    taler_txt.append(t.replace(str(første_linje), \" \"))"
   ]
  },
  {
   "cell_type": "markdown",
   "id": "de8de052-4287-4519-8996-d622831a3b96",
   "metadata": {},
   "source": [
    "Print det første element fra listen `taler_txt` og tjek om alt er, som forventet."
   ]
  },
  {
   "cell_type": "markdown",
   "id": "3cdd01b1-0f79-4fb5-9ac3-be2552b7177d",
   "metadata": {},
   "source": [
    "### Data frames"
   ]
  },
  {
   "cell_type": "markdown",
   "id": "e0a7dd7a-1511-436e-bdcd-392c711ba446",
   "metadata": {},
   "source": [
    "Vi er nu klar til at lave vores `data frame`. En data frame er en tabel-lignende datastruktur. Den minder om et regneark eller en database-tabel, hvor data er organiseret i rækker og kolonner. Hver kolonne kan indeholde forskellige typer data, som tal, tekst eller datoer. `Data frames` gør det nemt at analysere, manipulere og visualisere data. For at kunne arbejde med `data frames` er det nødvendigt (som vi allerede har gjort ovenfor), at importere pakken `Pandas`. \n",
    "\n",
    "Vi har allerede de elementer vi skal bruge, nemlig en liste med titler, som vi navngav `titler`, en liste med datoer, som vi navngav `datoer`, og en liste med tekster, som vi navngav `taler_txt`.\n",
    "\n",
    "Der er forskellige måder at konstruere dataframes. En måde er først at lave en `dictionary`. En `dictionary` en datastruktur, der gemmer data som `key/value`-par. Det vil sige, at hver værdi er forbundet med en unik nøgle, som fungerer som en etiket - tænk på det som en systematisk orhanisering af variabler. For eksempel kan en dictionary bruges til at gemme en persons oplysninger, hvor nøglerne kunne være \"navn\", \"alder\" og \"by\", og værdierne kunne være \"Anna\", \"24\" og \"Aarhus\". \n",
    "\n",
    "En `dictionary` skrives på følgende måde: `{key: value, key: value, ... }`\n",
    "\n",
    "I kodelinjen nedenfor laver vi en `dictionary`ud af vores tre lister.\n",
    "\n",
    "**Læs kodelinjen nedenfor grundigt. Forklar med jeres egne ord, hvad der sker og kommentér linjen**."
   ]
  },
  {
   "cell_type": "code",
   "execution_count": null,
   "id": "4befbbe1-0286-43ad-a6a2-eb49465c937f",
   "metadata": {},
   "outputs": [],
   "source": [
    "data = {\"Titler\": titler, \"Dato\": datoer, \"Taler\": taler_txt}"
   ]
  },
  {
   "cell_type": "markdown",
   "id": "d62a1ac1-668e-4e2e-865d-5b1ad472ee4c",
   "metadata": {},
   "source": [
    "Når vi først har lavet vores `dictionary`, er det let at lave en `data frame`. Vi konstruerer altid `data frames` vedhjælp af kommandoen `pd.DataFrame()`.\n",
    "\n",
    "**Læs kodelinjen nedenfor grundigt. Forklar med jeres egne ord, hvad der sker og kommentér linjen**."
   ]
  },
  {
   "cell_type": "code",
   "execution_count": null,
   "id": "96bb2648-df49-43a1-9777-c2c4ebd24cc2",
   "metadata": {},
   "outputs": [],
   "source": [
    "df_taler = pd.DataFrame(data)"
   ]
  },
  {
   "cell_type": "markdown",
   "id": "7be6fa65-deb3-41cd-bea6-69312e5d7946",
   "metadata": {},
   "source": [
    "Hvis vi vil se indholdet af vores `data frame` indtaster vi bare navnet."
   ]
  },
  {
   "cell_type": "code",
   "execution_count": null,
   "id": "13f3dacf-141a-4f25-8e46-825470856f52",
   "metadata": {},
   "outputs": [],
   "source": [
    "df_taler"
   ]
  },
  {
   "cell_type": "markdown",
   "id": "1fef90a4-e62b-4081-9ac3-6eaa0e7490b7",
   "metadata": {},
   "source": [
    "### Data cleaning\n",
    "Vi genbruger rensefunktionerne fra sidst.\n",
    "\n",
    "**Læs dem igennem. Vær sikker på at i forståe logikken i at definere en funktion**"
   ]
  },
  {
   "cell_type": "code",
   "execution_count": null,
   "id": "49b7a704-7251-4ee8-8a30-1d95665d93d8",
   "metadata": {},
   "outputs": [],
   "source": [
    "# definition af funktion, der renser teksten for uønskede tegn og returnerer en liste med ord \n",
    "\n",
    "def rens_ord(text_0):\n",
    "    text_1 = text_0.replace(\"\\n\",\" \")\n",
    "    text_2 = text_1.replace(\".\",\" \")\n",
    "    text_3 = text_2.replace(\",\",\" \")\n",
    "    text_4 = text_3.replace(\":\",\" \")\n",
    "    text_5 = text_4.replace(\"*\",\" \")\n",
    "    text_6 = text_5.replace(\"–\",\" \")\n",
    "    text_7 = text_6.replace(\"'\",\" \")\n",
    "    text_8 = text_7.replace(\"”\",\" \")\n",
    "    text_ren = text_8.replace(\"-\",\" \")\n",
    "    text_lav = text_ren.lower()\n",
    "    text_final = text_lav.split()\n",
    "    return text_final"
   ]
  },
  {
   "cell_type": "code",
   "execution_count": null,
   "id": "d298ffc5-6760-4389-95fa-630321a87429",
   "metadata": {},
   "outputs": [],
   "source": [
    "# definition af funktion, der renser teksten for uønskede tegn og returnerer en liste med sætninger \n",
    "\n",
    "def rens_sæt(text_0):\n",
    "    text_1 = text_0.replace(\"\\n\",\" \")\n",
    "    text_2 = text_1.replace(\";\",\" \")\n",
    "    text_3 = text_2.replace(\",\",\" \")\n",
    "    text_4 = text_3.replace(\":\",\" \")\n",
    "    text_5 = text_4.replace(\"*\",\" \")\n",
    "    text_6 = text_5.replace(\"–\",\" \")\n",
    "    text_7 = text_6.replace(\"'\",\" \")\n",
    "    text_8 = text_7.replace(\"”\",\" \")\n",
    "    text_ren = text_8.replace(\"-\",\" \")\n",
    "    text_lav = text_ren.lower()\n",
    "    text_final = text_lav.split(\".\")\n",
    "    return text_final"
   ]
  },
  {
   "cell_type": "markdown",
   "id": "43b7a843-186d-42f6-85ed-2dc802610bfc",
   "metadata": {},
   "source": [
    "### Anvend funktioner på `data frames`\n",
    "Vi har nu en `data frame` med tekster og metadata (titel og dato). Dette er vores grunbdlæggende datasæt. Em af måderne at arbejde videre på er, at at loope gennem datasættet ved at anvende en funktion på en hel kolonne.\n",
    "Til dette formål anvender vi `.apply()`.\n",
    "\n",
    "`.apply()` er en data frame-method, der bruges i `Pandas` til at anvende en funktion på hver værdi i en kolonne eller række i en data frame. Det gør det nemt at udføre operationer på data uden at skulle skrive loops. Resultatet gemmer vi direkte i en ny kolonne.\n",
    "\n",
    "I kodelinjen nedenfor anvender vi funktionen `rens_ord` på hver værdi i kolonnen `\"Taler\"` i data framen `df_taler`. Resultatet gemmes i en ny kolonne kaldet `\"txt_ord\"`. Vi renser med andre ord teksterne i kolonnen \"Taler\" og gemmer de rensede tekster i en ny kolonne.\n",
    "\n",
    "**Læs kodelinjen grundigt og vær sikker på i forstår, hvad alle delene betyder.**"
   ]
  },
  {
   "cell_type": "code",
   "execution_count": null,
   "id": "eedaef5a-5253-48cf-9d0c-98f972c79962",
   "metadata": {},
   "outputs": [],
   "source": [
    "df_taler[\"txt_ord\"] = df_taler[\"Taler\"].apply(rens_ord)"
   ]
  },
  {
   "cell_type": "markdown",
   "id": "56432b6a-3b83-47c1-a73f-a2af55f95218",
   "metadata": {},
   "source": [
    "Hvis vi vil inspicere indholdet af vores data frame kan vi indtaste navnet på den i kodefeltet. Hvis vi kun vil se de første fem eller de sidste fem linjer, kan vi tilføje `.head()` eller `.tail()` til variabelnavnet. \n",
    "\n",
    "**Afprøv de forskellige muligheder i kodefeltet nedenfor**"
   ]
  },
  {
   "cell_type": "code",
   "execution_count": null,
   "id": "924ab0e4-d69e-491f-a29e-aee2dcb16af4",
   "metadata": {},
   "outputs": [],
   "source": []
  },
  {
   "cell_type": "markdown",
   "id": "20a3a063-2b2f-43c1-bbce-c5923d420473",
   "metadata": {},
   "source": [
    "**Lav selv en ny kolonne**, hvor i anvender funktionen `rens_sæt`. \n",
    "\n",
    "**Inspicer** efterfølgende om kolonnen er tilføjet rigtigt. "
   ]
  },
  {
   "cell_type": "code",
   "execution_count": null,
   "id": "f9c5b3ed-0ce5-45e9-92e6-7e6a22b19920",
   "metadata": {},
   "outputs": [],
   "source": []
  },
  {
   "cell_type": "markdown",
   "id": "ea57e19b-588f-45a5-ae6f-421f055ba17e",
   "metadata": {},
   "source": [
    "### Tekster uden stopord\n",
    "\n",
    "For at færdiggøre vores datasæt tilføjer vi afslutningsvis en kolonne med en version af teksterne, hvor vi har fjernet alle **stopordene**.\n",
    "\n",
    "Vi har allerede indlæst slisten med stopord, så vi skal nu definere en funktion - som vi vil kalde `goWords` - der returner en version af teksten, hvor alle stopordene er fjernet. Funktionen kan se således ud. **Skriv den ind i kodefeltet nedenfor**."
   ]
  },
  {
   "cell_type": "markdown",
   "id": "ef86758d-e5f0-4e91-8839-42af10805a25",
   "metadata": {},
   "source": [
    "```\n",
    "def goWords(text,stpWrds):\n",
    "    gW = []\n",
    "    for w in text:\n",
    "        if w not in stpWrds:\n",
    "            gW.append(w)\n",
    "    return gW\n",
    "```   "
   ]
  },
  {
   "cell_type": "markdown",
   "id": "8fe04cda-e81c-417c-a8a7-95dce5913722",
   "metadata": {},
   "source": [
    "**Læse koden grundigt og kommentér hver enkelt linje**."
   ]
  },
  {
   "cell_type": "code",
   "execution_count": null,
   "id": "ef4d7ff4-e739-4da8-a284-ca93f94d7b92",
   "metadata": {},
   "outputs": [],
   "source": []
  },
  {
   "cell_type": "markdown",
   "id": "bb715ae1-bbc5-4029-9214-026483b1114b",
   "metadata": {},
   "source": [
    "Tilføj herefter en kolonne med teksterne renset for stopord. Brug kodelinjen nedenfor. Denne sekvens anvender funktionen goWords på hver værdi i kolonnen \"txt_ord\" i data framen `df_taler`. Funktionen `goWords` bruger en liste af stopord (angivet som stopord) som argument. Resultatet gemmes i en ny kolonne kaldet \"txt_goWords\". Kort sagt, den filtrerer eller behandler ordene i kolonnen \"txt_ord\" ved hjælp af stopordene og gemmer det filtrerede resultat i en ny kolonne.\n",
    "\n",
    "**VIGTIGT**: `Kommaet` efter stopord i args=(stopord,) betyder, at stopord bliver sendt som det ene argument i finktionen, hvor teksten fra `data framen`er den anden. Kommaet fortæller python, at `.apply()`-funktionen både skal hente et argument fra `data framen`, nemlig teksten, og et element udefra, nemlig stopordslisten.\n",
    "\n",
    "`df_taler[\"txt_goWords\"] = df_taler[\"txt_ord\"].apply(goWords,args=(stopord,))`\n",
    "\n",
    "**Læs kodesekvensen grundigt og vær sikker på, at I forstår alle delene**.\n",
    "\n",
    "Indtast kodesekvensen i feltet nedenfor."
   ]
  },
  {
   "cell_type": "code",
   "execution_count": null,
   "id": "202253d6-7c46-405f-8026-d1d403bb828d",
   "metadata": {},
   "outputs": [],
   "source": []
  },
  {
   "cell_type": "markdown",
   "id": "47de887e-5f58-418a-8f11-5d616788bd5c",
   "metadata": {},
   "source": [
    "**Inspicér data framen** `df_taler`og tjek om alt ser ud som det skal."
   ]
  },
  {
   "cell_type": "code",
   "execution_count": null,
   "id": "efb8801c-ccdd-46fe-8179-7ad14cf9779c",
   "metadata": {},
   "outputs": [],
   "source": []
  },
  {
   "cell_type": "code",
   "execution_count": null,
   "id": "4b8c9f61-b6d8-40ac-aea1-f0985bf213a9",
   "metadata": {},
   "outputs": [],
   "source": []
  }
 ],
 "metadata": {
  "kernelspec": {
   "display_name": "Python 3 (ipykernel)",
   "language": "python",
   "name": "python3"
  },
  "language_info": {
   "codemirror_mode": {
    "name": "ipython",
    "version": 3
   },
   "file_extension": ".py",
   "mimetype": "text/x-python",
   "name": "python",
   "nbconvert_exporter": "python",
   "pygments_lexer": "ipython3",
   "version": "3.12.3"
  }
 },
 "nbformat": 4,
 "nbformat_minor": 5
}

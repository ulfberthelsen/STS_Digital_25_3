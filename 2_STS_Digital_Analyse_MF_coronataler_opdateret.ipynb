{
 "cells": [
  {
   "cell_type": "markdown",
   "id": "b93ec2d7-d383-4ad1-86ec-6fd36110cbdf",
   "metadata": {},
   "source": [
    "## Sprog, Tekst og samfund 2025\n",
    "# 2.Introduktion til Pythonprogrammering og Digital Tekstanalyse: Mette Frederiksens Coronataler\n",
    "\n",
    "### *Ulf Dalvad Berthelsen*\n",
    "\n",
    "***\n",
    "***\n",
    "\n",
    "Keywords: `pre-processing`, `funktioner`, `loop`, `lister`, `plots`\n",
    "\n",
    "Nye Python-udtryk: `range`, `[0:4]`, `for ... in ...`, `type()`, `def`, `return`\n",
    "***\n",
    "***\n",
    "\n",
    "### Strings, lister, loops og plots\n",
    "Vi skal nu prøve at arbejde med flere tekster på en gang - i dette tilfælde Mette Frederiksen 14 coronataler. Det kan man gøre på flere måde. En af de simpleste måder er at samle teksterne på en liste og så loope sig gennem listerne. I det følgende skal prøve et gennemføre en minianalyse, der indeholder alle de grundlæggende skridt:\n",
    "1. Samle teksterne til et **datasæt**\n",
    "2. **Rense** teksterne for støj (1 og 2 omtales ofte samlet som pre-processing)\n",
    "3. Lave simple **analyser**\n",
    "4. Lave simple **visualiseringer** af resultaterne.\n",
    "\n"
   ]
  },
  {
   "cell_type": "markdown",
   "id": "5c6d2085-0122-4c0d-80d5-e97437119859",
   "metadata": {},
   "source": [
    "## Impoter pakker\n",
    "Vi begynder med at immportere de pakker vi skal bruge"
   ]
  },
  {
   "cell_type": "code",
   "execution_count": 2,
   "id": "8d28208e-21a7-45be-8f19-eaf80dc98034",
   "metadata": {},
   "outputs": [],
   "source": [
    "import os #os-pakken tillader os bl.a. at finde filplaceringer på computeren\n",
    "import matplotlib.pyplot as plt #matplotlib-pakken tilbyder som navnet antyder hjælp til at plotte vores resultater"
   ]
  },
  {
   "cell_type": "markdown",
   "id": "9b3e01a4-e188-4a8f-9d41-f99d220152e5",
   "metadata": {},
   "source": [
    "# Datasæt som liste\n",
    "Når vi skal håndtere større mængder af data, er der flere måder at gøre det på. Den simpleste er at samle de 14 tekster på en liste.\n",
    "\n",
    "Da vi allerede har gemt teksterne under hver deres variabelnavn, kan vi ganske enkelt samle listen, ved at skrive variabelnavnene i firkantede parenteser og gemme listen under et nyt navn.\n",
    "\n",
    "Kodelinjen nedenfor læses gem en liste med elementerne txt_1, txt_2 osv. under vatiabel navnet txt_list."
   ]
  },
  {
   "cell_type": "code",
   "execution_count": 4,
   "id": "8fbea7d4-e2e8-4af2-9873-fd8c9e36335d",
   "metadata": {},
   "outputs": [],
   "source": [
    "taler = [] # opretter tom liste\n",
    "\n",
    "path = os.path.join(\"Coronataler\") # specificerer fil-palceringen, bruges for at undgå mac/pc-problemerne med absolutte stinavne\n",
    "\n",
    "\n",
    "\n",
    "for fil in os.scandir(path): # for-loop\n",
    "    if fil.is_file(): # tjekker om elementerne i mappen er filer, og springer dem over, hvis det ikke er tilfældet\n",
    "        with open (fil, encoding = \"utf8\", errors='ignore') as f: # context manager der åbner og lukker filen, 'ignore' giver besked om at ignorere, encoding errors; kan erstattes med 'replace', der også ignorerer fejlen, men samtidig indsætter en markør, der gør det muligt at finde det tegn, der gav anledning til fejlen \n",
    "            taler.append(f.read()) # tilføjer teksten (filens indhold) til listen"
   ]
  },
  {
   "cell_type": "markdown",
   "id": "5397e7df-3f8a-4ded-a5a1-d64af30e81e2",
   "metadata": {},
   "source": [
    "Tjek om alle talerne er med ved at bruge `len()`-funktionen. Der skal være 14 i alt.\n",
    "\n",
    "Du kan også se en bestemt tale ved at taste `taler[0]`. 0 viser den færste tale, 1 den anden osv.\n",
    "\n",
    "Prøv og så at skrive taler[1:3]. Hvad viser det? \n",
    "\n",
    "Prøv også funktionen `type()`. Indsæt variabel-navnet mellem parenteserne. Funktionen angiver værdiens datatype."
   ]
  },
  {
   "cell_type": "markdown",
   "id": "c46316b8-2dc4-4609-bde8-fe3225899f3f",
   "metadata": {},
   "source": [
    "# Preprocessing"
   ]
  },
  {
   "cell_type": "markdown",
   "id": "d5a334de-f3ae-4f5f-93cb-c6a8061f9a58",
   "metadata": {},
   "source": [
    "## Funktioner til datarens\n",
    "Som forberedelse til arbejdet skal vi første definere to `funktioner`. Den første af de to funktioner er identisk med `rens`-funktionen, vi brugte sidst. Her blot omdøbt til `rens_ord`. Den anden funktion er magen til, bortset fra at den splitter ved punktum i stedet for ved blanktegn. Denne funktion kalder vi `rens_sæt`.\n",
    "\n",
    "Vi skal desuden have åbnet og indlæst filen. Her bruger vi funktionerne `open()` og `.read()` ligesom sidst."
   ]
  },
  {
   "cell_type": "markdown",
   "id": "e0f7cae9-3d36-4e50-ae7c-1ccaaa8f36cc",
   "metadata": {},
   "source": [
    "**Definition** af funktionen `rens_ord()`.\n",
    "Definitionen af en funtion består af tre dele: \n",
    "1. keyword'et `def` (indikerer at vi konstruerer en ny funktion) + funktionsnavn + angivelse af input\n",
    "2. beskrivelse af indholdet (funktionaliteten)\n",
    "3. keywordét `return` + en specificering af outputtet\n",
    "\n",
    "Kommentér linjerne nednenfor (brug #). Beskriv hvad hver enkelt linje betyder. "
   ]
  },
  {
   "cell_type": "code",
   "execution_count": null,
   "id": "129240a5-54c1-4de5-afd8-b34dc949bfeb",
   "metadata": {},
   "outputs": [],
   "source": [
    "def rens_ord(text_0):\n",
    "    text_1 = text_0.replace(\"\\n\",\" \")\n",
    "    text_2 = text_1.replace(\".\",\" \")\n",
    "    text_3 = text_2.replace(\",\",\" \")\n",
    "    text_4 = text_3.replace(\":\",\" \")\n",
    "    text_5 = text_4.replace(\"*\",\" \")\n",
    "    text_6 = text_5.replace(\"–\",\" \")\n",
    "    text_7 = text_6.replace(\"'\",\" \")\n",
    "    text_8 = text_7.replace(\"”\",\" \")\n",
    "    text_ren = text_8.replace(\"-\",\" \")\n",
    "    text_lav = text_ren.lower()\n",
    "    text_token = text_lav.split()\n",
    "    return text_token"
   ]
  },
  {
   "cell_type": "markdown",
   "id": "bfb1be02-6a2b-40c2-a595-3a09bceff3ce",
   "metadata": {},
   "source": [
    "Lav selv en ny funktion. Den skal hedde `rens_sæt`. Den skal være magen til `rens_ord` bortset fra, at den skal splitte teksten i sætninger i stedet for i ord."
   ]
  },
  {
   "cell_type": "code",
   "execution_count": null,
   "id": "5bf50df0-77ab-4aca-bb56-d353807e10e3",
   "metadata": {},
   "outputs": [],
   "source": []
  },
  {
   "cell_type": "markdown",
   "id": "dd5206a5-06d0-491d-9677-1488e7076a2a",
   "metadata": {},
   "source": [
    "# Loops og lister af lister\n",
    "Vi har nu fået samling på vores datamateriale og kan begynde at udnytte fordelen ved at kunne automatisere både data cleaning-processen og analyseprocessen.\n",
    "\n",
    "Prøv at skrive et for-loop, der måler længden af talerne. Du skal brige `for`, `in`og `len()` til at loope over listen `taler`.\n",
    "\n",
    "I det følgende kommer til at arbejde med lister af lister. Når I inspicerer resultatet skal I tjekke om de har følgende struktur `[[...], [...], [...]]`"
   ]
  },
  {
   "cell_type": "code",
   "execution_count": null,
   "id": "975d35b3-4934-403f-b3b8-1ccab349b4b4",
   "metadata": {},
   "outputs": [],
   "source": []
  },
  {
   "cell_type": "markdown",
   "id": "f0e4e1fc-c040-4012-b368-0fdf76844f26",
   "metadata": {},
   "source": [
    "## Talerne gemt som lister af ord \n",
    "Vi kan nu bruge vores to funktioner til at lave to forskellige rense versioner af vores datasæt. En liste hvor talerne gemmes som lister af ord, og en liste, hvor talerne gemmes som lister af sætninger.\n",
    "\n",
    "Bemærk at vi nu får lister af lister."
   ]
  },
  {
   "cell_type": "markdown",
   "id": "ebcd1f4a-8872-4ccc-ab01-fb27e72b3a04",
   "metadata": {},
   "source": [
    "Hvad sker der i loopet nednfor?\n",
    "Kommentér de enkelte kodelinjer."
   ]
  },
  {
   "cell_type": "code",
   "execution_count": null,
   "id": "7032550a-378f-4b10-bcea-67c2e0bda8f2",
   "metadata": {},
   "outputs": [],
   "source": [
    "txt_ord = []\n",
    "\n",
    "for t in taler:\n",
    "    txt_ord.append(rens_ord(t))"
   ]
  },
  {
   "cell_type": "markdown",
   "id": "a92ee93b-ac0a-4ec4-9f23-d7f01323e8c9",
   "metadata": {},
   "source": [
    "Hvis vi bare skriver `txt_ord` eller `print(txt_ord)` nedenfor, får vi 14 meget lange ordlister.\n",
    "\n",
    "Prøv i stedet at skrive `txt_ord[7][0:10]`\n",
    "\n",
    "**Hvad er resultatet? Husk at kommentere** "
   ]
  },
  {
   "cell_type": "code",
   "execution_count": null,
   "id": "30aa37de-da9a-43c3-ac4b-2d7f7bae2c51",
   "metadata": {},
   "outputs": [],
   "source": []
  },
  {
   "cell_type": "markdown",
   "id": "70e49968-a78b-4e0e-8e68-6ab9e4d9974a",
   "metadata": {},
   "source": [
    "## Talerne gemt som lister af sætninger\n",
    "Vi skal også have lavet en liste med talerne repræsenteret som lister af sætninger. **Kopier** eksemplet ovenfor og tilpas det. Brug den rensefunktion, du selv lavede tidligere. Giv listen et informativ men kort navn."
   ]
  },
  {
   "cell_type": "code",
   "execution_count": null,
   "id": "46a5490d-3ee9-4cd1-a7d6-bfc49534c2ec",
   "metadata": {},
   "outputs": [],
   "source": []
  },
  {
   "cell_type": "markdown",
   "id": "2166ed9a-4200-4b50-986d-1d40528b8a44",
   "metadata": {},
   "source": [
    "Tjek om resultat er som for ventet ved at inspicere de første ti sætninger i den første tekst på listen. Brug samme fremgangsmåde som før."
   ]
  },
  {
   "cell_type": "code",
   "execution_count": null,
   "id": "45d563c2-11ad-4f6d-b27f-57d95e3b02cd",
   "metadata": {},
   "outputs": [],
   "source": []
  },
  {
   "cell_type": "markdown",
   "id": "bad56696-f36d-4cae-906b-7d95de28db83",
   "metadata": {},
   "source": [
    "## Tekslængde målt som antal ord og antal sætninger"
   ]
  },
  {
   "cell_type": "markdown",
   "id": "89cdfb9d-fa00-419d-aac5-2e263464f8b8",
   "metadata": {},
   "source": [
    "Først målet vi teksternes længde mål på antal ord. Det kan gøres med et simpelt `for-loop`"
   ]
  },
  {
   "cell_type": "code",
   "execution_count": null,
   "id": "03fe674e-2460-4c17-a0fe-cb6950bcd727",
   "metadata": {},
   "outputs": [],
   "source": [
    "lstOrdLen = []\n",
    "for t in txt_ord:\n",
    "    lstOrdLen.append(len(t))\n",
    "\n",
    "print(lstOrdLen)"
   ]
  },
  {
   "cell_type": "markdown",
   "id": "f59ede75-9bf0-447f-a5ba-cdf8a1006a49",
   "metadata": {},
   "source": [
    "Lav selv en liste, der indholder tallene for talernes længde målt som antal sætninger. **Kopier** eksemplet ovenfor og tilpas det, så det loope over din liste med lister af sætninger, som du lavede ovenfor."
   ]
  },
  {
   "cell_type": "code",
   "execution_count": null,
   "id": "a0cb0218-5424-4290-a58f-0114f57d33cb",
   "metadata": {},
   "outputs": [],
   "source": []
  },
  {
   "cell_type": "markdown",
   "id": "2c0e6070-d52b-428e-86c8-f500c3529949",
   "metadata": {},
   "source": [
    "# Plots\n",
    "Vi skal nu prøve at plotte de to lister, så vi kan sammenligne tallene. Tallene på x-aksen angiver talens nummer, og tallene på y-aksen angiver antal ord/sætninger.\n",
    "\n",
    "Ved `y2 = ` skal i indsætte variabelnavnet på den liste i har lavet med tallene for tekstlængde mål på antal sætninger.\n",
    "\n",
    "Læs koden til plottet grundigt. Hjælp hinanden med at finde ud af, hvad de enkelte dele betyder"
   ]
  },
  {
   "cell_type": "code",
   "execution_count": null,
   "id": "d8cd8317-f107-4b52-9a68-977976b20239",
   "metadata": {},
   "outputs": [],
   "source": [
    "# x-axens værdier\n",
    "x = [1,2,3,4,5,6,7,8,9,10,11,12,13,14]\n",
    "# y-axens værdier\n",
    "y1 = lstOrdLen\n",
    "y2 = #indsæt variabelnavnet på den liste du lavede med teksterne målt som antal sætninger\n",
    "\n",
    "# plot vædierne\n",
    "plt.plot(x, y1, label = \"antal ord\")\n",
    "plt.plot(x, y2, label = \"antal sætninger\")\n",
    " \n",
    "# navngiv x-aksen\n",
    "plt.xlabel('Tale')\n",
    "# navngiv y-aksen\n",
    "plt.ylabel('Længde')\n",
    " \n",
    "# titel på plot\n",
    "plt.title('Coronataler')\n",
    "\n",
    "# tilføj labelnavne til plot\n",
    "plt.legend()\n",
    " \n",
    "# vis plottet\n",
    "plt.show()"
   ]
  },
  {
   "cell_type": "markdown",
   "id": "51006a61-7898-4700-8e91-c75153857370",
   "metadata": {},
   "source": [
    "# Ekstraopgave\n",
    "Hvis I har til tilovers, kan I prøve at læse jer gennem eksemplet nedenfor. Tilføj **kommentarer** til de enkelte kodelinjer, hvor i beskriver, hvad hver enkelt linje betyder. "
   ]
  },
  {
   "cell_type": "code",
   "execution_count": null,
   "id": "24b85ef8-9885-49cf-b353-8edbe8533188",
   "metadata": {},
   "outputs": [],
   "source": [
    "corona_i_tekst = []\n",
    "for tekst in txt_ord:\n",
    "    corona_list = []\n",
    "    for ord in tekst:\n",
    "        if \"corona\" in ord:\n",
    "            corona_list.append(ord)\n",
    "    corona_i_tekst.append(corona_list)\n",
    "    "
   ]
  },
  {
   "cell_type": "code",
   "execution_count": null,
   "id": "d0be3615-eefc-4145-98c8-b40ba0475b7b",
   "metadata": {},
   "outputs": [],
   "source": [
    "print(corona_i_tekst)"
   ]
  },
  {
   "cell_type": "code",
   "execution_count": null,
   "id": "602ccc02-8258-489b-8f89-2c42c12a1d55",
   "metadata": {},
   "outputs": [],
   "source": [
    "antal_corona = []\n",
    "for list in corona_i_tekst:\n",
    "    antal_corona.append(len(list))"
   ]
  },
  {
   "cell_type": "code",
   "execution_count": null,
   "id": "e50de588-1b65-4ecb-903a-5026900034e1",
   "metadata": {},
   "outputs": [],
   "source": [
    "print(antal_corona)"
   ]
  },
  {
   "cell_type": "code",
   "execution_count": null,
   "id": "f12b30e9-f1e0-4e49-9ce7-05397230bb8f",
   "metadata": {},
   "outputs": [],
   "source": [
    " \n",
    "# x-axens værdier\n",
    "x = [1,2,3,4,5,6,7,8,9,10,11,12,13,14]\n",
    "# y-axens værdier\n",
    "y1 = antal_corona\n",
    "\n",
    "# plot vædierne\n",
    "# plt.plot(x, y1, label = \"antal sætninger\")\n",
    "plt.plot(x, y1, label = \"antal corona nævnt\")\n",
    " \n",
    "# navngiv x-aksen\n",
    "plt.xlabel('Tale')\n",
    "# navngiv y-aksen\n",
    "plt.ylabel('Længde')\n",
    " \n",
    "# titel på plot\n",
    "plt.title('Coronataler')\n",
    "\n",
    "# tilføj labelnavne til plot\n",
    "plt.legend()\n",
    " \n",
    "# vis plottet\n",
    "plt.show()"
   ]
  },
  {
   "cell_type": "markdown",
   "id": "21a1a807-2fd9-47ad-9e4c-ec1558f81fcf",
   "metadata": {},
   "source": [
    "# Ekstra ekstraopgave"
   ]
  },
  {
   "cell_type": "markdown",
   "id": "c54d4445-f708-4a2e-9215-8893c3962331",
   "metadata": {},
   "source": [
    "Prøv at bruge sekvensen ovenfor til at lede efter andre corona-relaterede ord. Prøv også at plotte frekvensen af de nye ord."
   ]
  },
  {
   "cell_type": "code",
   "execution_count": null,
   "id": "bf7a4ae9-ef88-48c0-989c-7f0511f78390",
   "metadata": {},
   "outputs": [],
   "source": []
  }
 ],
 "metadata": {
  "kernelspec": {
   "display_name": "Python 3 (ipykernel)",
   "language": "python",
   "name": "python3"
  },
  "language_info": {
   "codemirror_mode": {
    "name": "ipython",
    "version": 3
   },
   "file_extension": ".py",
   "mimetype": "text/x-python",
   "name": "python",
   "nbconvert_exporter": "python",
   "pygments_lexer": "ipython3",
   "version": "3.12.3"
  }
 },
 "nbformat": 4,
 "nbformat_minor": 5
}
